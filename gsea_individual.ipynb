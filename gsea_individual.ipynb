{
 "cells": [
  {
   "cell_type": "code",
   "execution_count": 1,
   "id": "b82ec63f-528e-4d83-88d5-681154e97b51",
   "metadata": {},
   "outputs": [],
   "source": [
    "import pandas as pd\n",
    "import numpy as np\n",
    "import os"
   ]
  },
  {
   "cell_type": "code",
   "execution_count": 4,
   "id": "1f10e18d-a193-492b-9b6f-947dcc03e67d",
   "metadata": {},
   "outputs": [],
   "source": [
    "df = pd.read_csv('./csvs/mouseedgeRcounts_UPDATED.csv')\n",
    "df.dropna(axis = 0, how = 'any', inplace = True)\n",
    "treatments = [\"Control.F.12-Acarbose.F.12\", \"Control.M.12-Acarbose.M.12\", \"Control.F.12-CR.F.12\", \"Control.M.12-CR.M.12\", \n",
    "               \"GHRKOControl.M-GHRKO.M\", \"Control.F.12-Rapamycin.F.12\",  \"Control.M.12-Rapamycin.M.12\", \n",
    "               \"SnellDwarfMiceControl.M-SnellDwarfMice.M\", \"Control.F.6-Acarbose.F.6\", \"Control.M.6-Acarbose.M.6\", \n",
    "               \"Control.F.6-CR.F.6\", \"Control.M.6-CR.M.6\", \"Control.F.6-Rapamycin.F.6\",  \"Control.M.6-Rapamycin.M.6\", \n",
    "               \"Control.F.6-Protandim.F.6\", \"Control.F.6-Protandim.M.6\", \"Control.F.6-alphaestradiol.F.6\", \n",
    "               \"Control.M.6-alphaestradiol.M.6\", \"MRControl.M-MethionineRestriction.M\"]\n",
    "pvalColumns = [\"Control.F.12-Acarbose.F.12_PValue\", \"Control.M.12-Acarbose.M.12_PValue\", \"Control.F.12-CR.F.12_PValue\", \"Control.M.12-CR.M.12_PValue\", \n",
    "                  \"GHRKOControl.M-GHRKO.M_PValue\", \"Control.F.12-Rapamycin.F.12_PValue\",  \"Control.M.12-Rapamycin.M.12_PValue\", \n",
    "                  \"SnellDwarfMiceControl.M-SnellDwarfMice.M_PValue\", \"Control.F.6-Acarbose.F.6_PValue\", \"Control.M.6-Acarbose.M.6_PValue\", \n",
    "                  \"Control.F.6-CR.F.6_PValue\", \"Control.M.6-CR.M.6_PValue\", \"Control.F.6-Rapamycin.F.6_PValue\",  \"Control.M.6-Rapamycin.M.6_PValue\", \n",
    "                  \"Control.F.6-Protandim.F.6_PValue\", \"Control.F.6-Protandim.M.6_PValue\", \"Control.F.6-alphaestradiol.F.6_PValue\", \n",
    "                  \"Control.M.6-alphaestradiol.M.6_PValue\", \"MRControl.M-MethionineRestriction.M_PValue\"]\n",
    "statColumns = [\"Control.F.12-Acarbose.F.12_logFC\", \"Control.M.12-Acarbose.M.12_logFC\", \"Control.F.12-CR.F.12_logFC\", \"Control.M.12-CR.M.12_logFC\", \n",
    "                 \"GHRKOControl.M-GHRKO.M_logFC\", \"Control.F.12-Rapamycin.F.12_logFC\",  \"Control.M.12-Rapamycin.M.12_logFC\", \n",
    "                 \"SnellDwarfMiceControl.M-SnellDwarfMice.M_logFC\", \"Control.F.6-Acarbose.F.6_logFC\", \"Control.M.6-Acarbose.M.6_logFC\", \n",
    "                 \"Control.F.6-CR.F.6_logFC\", \"Control.M.6-CR.M.6_logFC\", \"Control.F.6-Rapamycin.F.6_logFC\",  \"Control.M.6-Rapamycin.M.6_logFC\", \n",
    "                 \"Control.F.6-Protandim.F.6_logFC\", \"Control.F.6-Protandim.M.6_logFC\", \"Control.F.6-alphaestradiol.F.6_logFC\", \n",
    "                 \"Control.M.6-alphaestradiol.M.6_logFC\", \"MRControl.M-MethionineRestriction.M_logFC\"]"
   ]
  },
  {
   "cell_type": "code",
   "execution_count": 38,
   "id": "c8db358a-ffb2-4cae-ac0a-6838e10faf7e",
   "metadata": {},
   "outputs": [],
   "source": [
    "for i in range(len(treatments)):\n",
    "    mini_df = df.iloc[:, [0] + list(range(1 + i * 5, 6 + i * 5))]\n",
    "    mini_df = mini_df[mini_df[pvalColumns[i]] < 0.05] \n",
    "    mini_df = mini_df[abs(mini_df[statColumns[i]]) > 1.5]\n",
    "    filepath = './csvs/individual_treatments/' + treatments[i] + '.csv'\n",
    "    mini_df.to_csv(filepath,index=False)"
   ]
  },
  {
   "cell_type": "code",
   "execution_count": 36,
   "id": "d8fea94a-d3f1-4360-aa87-5a8c534e60e2",
   "metadata": {},
   "outputs": [],
   "source": [
    "l = []\n",
    "for i in range(len(treatments)):\n",
    "    filepath = './csvs/individual_treatments/' + treatments[i] + '.csv'\n",
    "    l.append(filepath)"
   ]
  },
  {
   "cell_type": "code",
   "execution_count": 37,
   "id": "f9bec699-5954-490a-9c9e-9cce4c9b9aba",
   "metadata": {},
   "outputs": [
    {
     "data": {
      "text/plain": [
       "['./csvs/individual_treatments/Control.F.12-Acarbose.F.12.csv',\n",
       " './csvs/individual_treatments/Control.M.12-Acarbose.M.12.csv',\n",
       " './csvs/individual_treatments/Control.F.12-CR.F.12.csv',\n",
       " './csvs/individual_treatments/Control.M.12-CR.M.12.csv',\n",
       " './csvs/individual_treatments/GHRKOControl.M-GHRKO.M.csv',\n",
       " './csvs/individual_treatments/Control.F.12-Rapamycin.F.12.csv',\n",
       " './csvs/individual_treatments/Control.M.12-Rapamycin.M.12.csv',\n",
       " './csvs/individual_treatments/SnellDwarfMiceControl.M-SnellDwarfMice.M.csv',\n",
       " './csvs/individual_treatments/Control.F.6-Acarbose.F.6.csv',\n",
       " './csvs/individual_treatments/Control.M.6-Acarbose.M.6.csv',\n",
       " './csvs/individual_treatments/Control.F.6-CR.F.6.csv',\n",
       " './csvs/individual_treatments/Control.M.6-CR.M.6.csv',\n",
       " './csvs/individual_treatments/Control.F.6-Rapamycin.F.6.csv',\n",
       " './csvs/individual_treatments/Control.M.6-Rapamycin.M.6.csv',\n",
       " './csvs/individual_treatments/Control.F.6-Protandim.F.6.csv',\n",
       " './csvs/individual_treatments/Control.F.6-Protandim.M.6.csv',\n",
       " './csvs/individual_treatments/Control.F.6-alphaestradiol.F.6.csv',\n",
       " './csvs/individual_treatments/Control.M.6-alphaestradiol.M.6.csv',\n",
       " './csvs/individual_treatments/MRControl.M-MethionineRestriction.M.csv']"
      ]
     },
     "execution_count": 37,
     "metadata": {},
     "output_type": "execute_result"
    }
   ],
   "source": [
    "l"
   ]
  }
 ],
 "metadata": {
  "kernelspec": {
   "display_name": "Python 3 (ipykernel)",
   "language": "python",
   "name": "python3"
  },
  "language_info": {
   "codemirror_mode": {
    "name": "ipython",
    "version": 3
   },
   "file_extension": ".py",
   "mimetype": "text/x-python",
   "name": "python",
   "nbconvert_exporter": "python",
   "pygments_lexer": "ipython3",
   "version": "3.11.3"
  }
 },
 "nbformat": 4,
 "nbformat_minor": 5
}
